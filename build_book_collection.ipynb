{
  "nbformat": 4,
  "nbformat_minor": 0,
  "metadata": {
    "colab": {
      "provenance": [],
      "authorship_tag": "ABX9TyM3XWAtig+WSkkthJNaTHt/",
      "include_colab_link": true
    },
    "kernelspec": {
      "name": "python3",
      "display_name": "Python 3"
    },
    "language_info": {
      "name": "python"
    }
  },
  "cells": [
    {
      "cell_type": "markdown",
      "metadata": {
        "id": "view-in-github",
        "colab_type": "text"
      },
      "source": [
        "<a href=\"https://colab.research.google.com/github/phoughton/vector_search/blob/main/build_book_collection.ipynb\" target=\"_parent\"><img src=\"https://colab.research.google.com/assets/colab-badge.svg\" alt=\"Open In Colab\"/></a>"
      ]
    },
    {
      "cell_type": "code",
      "source": [
        "!pip install -r requirements.txt"
      ],
      "metadata": {
        "id": "yYut4gtjiVMY"
      },
      "execution_count": null,
      "outputs": []
    },
    {
      "cell_type": "code",
      "execution_count": null,
      "metadata": {
        "id": "PTaRbkPhiM4Y"
      },
      "outputs": [],
      "source": [
        "import chromadb\n",
        "from textract import extract_from_txt, get_file_names, Document\n",
        "import config\n",
        "\n",
        "\n",
        "books = get_file_names(config.DATA_IN_LOCATION, \".txt\")\n",
        "\n",
        "chroma_client = chromadb.PersistentClient(path=config.DB_LOCATION)\n",
        "\n",
        "collection = chroma_client.get_or_create_collection(name=config.DB_NAME)\n",
        "\n",
        "for book_name in books:\n",
        "    print(f\"Parsing: {book_name}\")\n",
        "    book = Document(config.DATA_IN_LOCATION, book_name,\n",
        "                    extractor=extract_from_txt)\n",
        "    print(f\"Adding: {book_name}\")\n",
        "    print(f\"Book chunks: {len(book.get_book_chunks())}\")\n",
        "    collection.add(\n",
        "        documents=book.get_book_chunks(),\n",
        "        metadatas=book.get_metadata(),\n",
        "        ids=book.get_ids()\n",
        "        )"
      ]
    }
  ]
}